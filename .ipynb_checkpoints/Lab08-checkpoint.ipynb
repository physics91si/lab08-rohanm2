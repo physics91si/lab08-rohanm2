{
 "cells": [
  {
   "cell_type": "code",
   "execution_count": 2,
   "metadata": {
    "scrolled": true
   },
   "outputs": [
    {
     "name": "stdout",
     "output_type": "stream",
     "text": [
      "#This drop tower is equipped with velocity sensors that have gathered data over a\n",
      "#10 second test run interval.  The time stamp (seconds) is the first column and\n",
      "#the velocity(m/s) is the second column. Note that this ride starts at an\n",
      "#initial height of 30 meters.\n",
      "#T  V\n",
      "0   15.0\n",
      "1   17.6\n",
      "2   7.8\n",
      "3   -2.0\n",
      "4   -11.8\n",
      "5   -21.6\n",
      "6   -19.0\n",
      "7   -4.0\n",
      "8   11.0\n",
      "9   13.6\n",
      "10   3.8\n"
     ]
    }
   ],
   "source": [
    "import numpy as np \n",
    "\n",
    "myfile = open(\"droptower_vdata.txt\") \n",
    "txt = myfile.read()\n",
    "print(txt) "
   ]
  },
  {
   "cell_type": "code",
   "execution_count": 50,
   "metadata": {
    "scrolled": true
   },
   "outputs": [
    {
     "data": {
      "image/png": "[encoded data removed]",
      "text/plain": [
       "<Figure size 432x288 with 1 Axes>"
      ]
     },
     "metadata": {
      "needs_background": "light"
     },
     "output_type": "display_data"
    }
   ],
   "source": [
    "import matplotlib.pyplot as plt \n",
    "\n",
    "#for line in txt: \n",
    "#    if line.isalnum(): \n",
    "#        print(line) \n",
    "\n",
    "times = [0, 1, 2, 3, 4, 5, 6, 7, 8, 9, 10] \n",
    "velocities = [15.0, 17.6, 7.8, -2.0, -11.8, -21.6, -19.0, -4.0, 11.0, 13.6, 3.8] \n",
    "\n",
    "plt.scatter(times, velocities, 15)   \n",
    "plt.show() \n",
    "\n",
    "\n",
    "\n",
    "# We have velocity \n",
    "# Integrate to obtain position \n",
    "# Differentiate to obtain acceleration \n",
    "\n",
    "\n",
    "\n"
   ]
  },
  {
   "cell_type": "code",
   "execution_count": 58,
   "metadata": {},
   "outputs": [
    {
     "data": {
      "image/png": "[encoded data removed]",
      "text/plain": [
       "<Figure size 432x288 with 1 Axes>"
      ]
     },
     "metadata": {
      "needs_background": "light"
     },
     "output_type": "display_data"
    }
   ],
   "source": [
    "accelerations = [] \n",
    "for i in range(len(velocities) - 1):  \n",
    "    acc = velocities[i + 1] - velocities[i] \n",
    "    accelerations.append(acc) \n",
    "\n",
    "plt.scatter(times[0:len(times)], accelerations, 15) \n",
    "\n",
    "plt.show() "
   ]
  },
  {
   "cell_type": "code",
   "execution_count": null,
   "metadata": {},
   "outputs": [],
   "source": []
  },
  {
   "cell_type": "code",
   "execution_count": null,
   "metadata": {},
   "outputs": [],
   "source": []
  },
  {
   "cell_type": "code",
   "execution_count": null,
   "metadata": {},
   "outputs": [],
   "source": []
  }
 ],
 "metadata": {
  "kernelspec": {
   "display_name": "Python 3",
   "language": "python",
   "name": "python3"
  },
  "language_info": {
   "codemirror_mode": {
    "name": "ipython",
    "version": 3
   },
   "file_extension": ".py",
   "mimetype": "text/x-python",
   "name": "python",
   "nbconvert_exporter": "python",
   "pygments_lexer": "ipython3",
   "version": "3.7.1"
  }
 },
 "nbformat": 4,
 "nbformat_minor": 2
}
